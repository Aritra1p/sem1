{
 "cells": [
  {
   "cell_type": "code",
   "execution_count": 2,
   "id": "aef72056",
   "metadata": {},
   "outputs": [],
   "source": [
    "import pandas as pd\n",
    "import numpy as np\n",
    "import matplotlib.pyplot as plt\n",
    "import seaborn as sns\n",
    "import statsmodels.api as sm"
   ]
  },
  {
   "cell_type": "code",
   "execution_count": 3,
   "id": "748b96be",
   "metadata": {},
   "outputs": [],
   "source": [
    "df=pd.read_csv(r'Employee promotion recommendation.csv')"
   ]
  },
  {
   "cell_type": "code",
   "execution_count": 4,
   "id": "9bce7776",
   "metadata": {},
   "outputs": [
    {
     "data": {
      "text/html": [
       "<div>\n",
       "<style scoped>\n",
       "    .dataframe tbody tr th:only-of-type {\n",
       "        vertical-align: middle;\n",
       "    }\n",
       "\n",
       "    .dataframe tbody tr th {\n",
       "        vertical-align: top;\n",
       "    }\n",
       "\n",
       "    .dataframe thead th {\n",
       "        text-align: right;\n",
       "    }\n",
       "</style>\n",
       "<table border=\"1\" class=\"dataframe\">\n",
       "  <thead>\n",
       "    <tr style=\"text-align: right;\">\n",
       "      <th></th>\n",
       "      <th>employee_id</th>\n",
       "      <th>department</th>\n",
       "      <th>region</th>\n",
       "      <th>education</th>\n",
       "      <th>gender</th>\n",
       "      <th>recruitment_channel</th>\n",
       "      <th>no_of_trainings</th>\n",
       "      <th>age</th>\n",
       "      <th>previous_year_rating</th>\n",
       "      <th>length_of_service</th>\n",
       "      <th>KPIs_met &gt;80%</th>\n",
       "      <th>awards_won?</th>\n",
       "      <th>avg_training_score</th>\n",
       "      <th>is_promoted</th>\n",
       "    </tr>\n",
       "  </thead>\n",
       "  <tbody>\n",
       "    <tr>\n",
       "      <th>0</th>\n",
       "      <td>65438</td>\n",
       "      <td>Sales &amp; Marketing</td>\n",
       "      <td>region_7</td>\n",
       "      <td>Master's &amp; above</td>\n",
       "      <td>f</td>\n",
       "      <td>sourcing</td>\n",
       "      <td>1</td>\n",
       "      <td>35</td>\n",
       "      <td>5.0</td>\n",
       "      <td>8</td>\n",
       "      <td>1</td>\n",
       "      <td>0</td>\n",
       "      <td>49</td>\n",
       "      <td>0</td>\n",
       "    </tr>\n",
       "    <tr>\n",
       "      <th>1</th>\n",
       "      <td>65141</td>\n",
       "      <td>Operations</td>\n",
       "      <td>region_22</td>\n",
       "      <td>Bachelor's</td>\n",
       "      <td>m</td>\n",
       "      <td>other</td>\n",
       "      <td>1</td>\n",
       "      <td>30</td>\n",
       "      <td>5.0</td>\n",
       "      <td>4</td>\n",
       "      <td>0</td>\n",
       "      <td>0</td>\n",
       "      <td>60</td>\n",
       "      <td>0</td>\n",
       "    </tr>\n",
       "    <tr>\n",
       "      <th>2</th>\n",
       "      <td>7513</td>\n",
       "      <td>Sales &amp; Marketing</td>\n",
       "      <td>region_19</td>\n",
       "      <td>Bachelor's</td>\n",
       "      <td>m</td>\n",
       "      <td>sourcing</td>\n",
       "      <td>1</td>\n",
       "      <td>34</td>\n",
       "      <td>3.0</td>\n",
       "      <td>7</td>\n",
       "      <td>0</td>\n",
       "      <td>0</td>\n",
       "      <td>50</td>\n",
       "      <td>0</td>\n",
       "    </tr>\n",
       "    <tr>\n",
       "      <th>3</th>\n",
       "      <td>2542</td>\n",
       "      <td>Sales &amp; Marketing</td>\n",
       "      <td>region_23</td>\n",
       "      <td>Bachelor's</td>\n",
       "      <td>m</td>\n",
       "      <td>other</td>\n",
       "      <td>2</td>\n",
       "      <td>39</td>\n",
       "      <td>1.0</td>\n",
       "      <td>10</td>\n",
       "      <td>0</td>\n",
       "      <td>0</td>\n",
       "      <td>50</td>\n",
       "      <td>0</td>\n",
       "    </tr>\n",
       "    <tr>\n",
       "      <th>4</th>\n",
       "      <td>48945</td>\n",
       "      <td>Technology</td>\n",
       "      <td>region_26</td>\n",
       "      <td>Bachelor's</td>\n",
       "      <td>m</td>\n",
       "      <td>other</td>\n",
       "      <td>1</td>\n",
       "      <td>45</td>\n",
       "      <td>3.0</td>\n",
       "      <td>2</td>\n",
       "      <td>0</td>\n",
       "      <td>0</td>\n",
       "      <td>73</td>\n",
       "      <td>0</td>\n",
       "    </tr>\n",
       "  </tbody>\n",
       "</table>\n",
       "</div>"
      ],
      "text/plain": [
       "   employee_id         department     region         education gender  \\\n",
       "0        65438  Sales & Marketing   region_7  Master's & above      f   \n",
       "1        65141         Operations  region_22        Bachelor's      m   \n",
       "2         7513  Sales & Marketing  region_19        Bachelor's      m   \n",
       "3         2542  Sales & Marketing  region_23        Bachelor's      m   \n",
       "4        48945         Technology  region_26        Bachelor's      m   \n",
       "\n",
       "  recruitment_channel  no_of_trainings  age  previous_year_rating  \\\n",
       "0            sourcing                1   35                   5.0   \n",
       "1               other                1   30                   5.0   \n",
       "2            sourcing                1   34                   3.0   \n",
       "3               other                2   39                   1.0   \n",
       "4               other                1   45                   3.0   \n",
       "\n",
       "   length_of_service  KPIs_met >80%  awards_won?  avg_training_score  \\\n",
       "0                  8              1            0                  49   \n",
       "1                  4              0            0                  60   \n",
       "2                  7              0            0                  50   \n",
       "3                 10              0            0                  50   \n",
       "4                  2              0            0                  73   \n",
       "\n",
       "   is_promoted  \n",
       "0            0  \n",
       "1            0  \n",
       "2            0  \n",
       "3            0  \n",
       "4            0  "
      ]
     },
     "execution_count": 4,
     "metadata": {},
     "output_type": "execute_result"
    }
   ],
   "source": [
    "df.head()"
   ]
  },
  {
   "cell_type": "code",
   "execution_count": 5,
   "id": "13402d63",
   "metadata": {},
   "outputs": [
    {
     "data": {
      "text/plain": [
       "(54808, 14)"
      ]
     },
     "execution_count": 5,
     "metadata": {},
     "output_type": "execute_result"
    }
   ],
   "source": [
    "df.shape"
   ]
  },
  {
   "cell_type": "code",
   "execution_count": 6,
   "id": "9ebb1476",
   "metadata": {},
   "outputs": [
    {
     "data": {
      "text/plain": [
       "employee_id             54808\n",
       "department              54808\n",
       "region                  54808\n",
       "education               52399\n",
       "gender                  54808\n",
       "recruitment_channel     54808\n",
       "no_of_trainings         54808\n",
       "age                     54808\n",
       "previous_year_rating    50684\n",
       "length_of_service       54808\n",
       "KPIs_met >80%           54808\n",
       "awards_won?             54808\n",
       "avg_training_score      54808\n",
       "is_promoted             54808\n",
       "dtype: int64"
      ]
     },
     "execution_count": 6,
     "metadata": {},
     "output_type": "execute_result"
    }
   ],
   "source": [
    "df.count()"
   ]
  },
  {
   "cell_type": "code",
   "execution_count": 7,
   "id": "489ef5b2",
   "metadata": {},
   "outputs": [
    {
     "data": {
      "text/plain": [
       "employee_id             54808\n",
       "department                  9\n",
       "region                     34\n",
       "education                   3\n",
       "gender                      2\n",
       "recruitment_channel         3\n",
       "no_of_trainings            10\n",
       "age                        41\n",
       "previous_year_rating        5\n",
       "length_of_service          35\n",
       "KPIs_met >80%               2\n",
       "awards_won?                 2\n",
       "avg_training_score         61\n",
       "is_promoted                 2\n",
       "dtype: int64"
      ]
     },
     "execution_count": 7,
     "metadata": {},
     "output_type": "execute_result"
    }
   ],
   "source": [
    "df.nunique()"
   ]
  },
  {
   "cell_type": "code",
   "execution_count": 8,
   "id": "5568082c",
   "metadata": {},
   "outputs": [
    {
     "data": {
      "text/plain": [
       "employee_id               int64\n",
       "department               object\n",
       "region                   object\n",
       "education                object\n",
       "gender                   object\n",
       "recruitment_channel      object\n",
       "no_of_trainings           int64\n",
       "age                       int64\n",
       "previous_year_rating    float64\n",
       "length_of_service         int64\n",
       "KPIs_met >80%             int64\n",
       "awards_won?               int64\n",
       "avg_training_score        int64\n",
       "is_promoted               int64\n",
       "dtype: object"
      ]
     },
     "execution_count": 8,
     "metadata": {},
     "output_type": "execute_result"
    }
   ],
   "source": [
    "df.dtypes"
   ]
  },
  {
   "cell_type": "code",
   "execution_count": 9,
   "id": "2719ece9",
   "metadata": {},
   "outputs": [
    {
     "data": {
      "text/plain": [
       "employee_id             0.000000\n",
       "department              0.000000\n",
       "region                  0.000000\n",
       "education               4.395344\n",
       "gender                  0.000000\n",
       "recruitment_channel     0.000000\n",
       "no_of_trainings         0.000000\n",
       "age                     0.000000\n",
       "previous_year_rating    7.524449\n",
       "length_of_service       0.000000\n",
       "KPIs_met >80%           0.000000\n",
       "awards_won?             0.000000\n",
       "avg_training_score      0.000000\n",
       "is_promoted             0.000000\n",
       "dtype: float64"
      ]
     },
     "execution_count": 9,
     "metadata": {},
     "output_type": "execute_result"
    }
   ],
   "source": [
    "#percent missing values\n",
    "df.isnull().mean()*100"
   ]
  },
  {
   "cell_type": "code",
   "execution_count": 10,
   "id": "349c5c60",
   "metadata": {},
   "outputs": [
    {
     "data": {
      "text/html": [
       "<div>\n",
       "<style scoped>\n",
       "    .dataframe tbody tr th:only-of-type {\n",
       "        vertical-align: middle;\n",
       "    }\n",
       "\n",
       "    .dataframe tbody tr th {\n",
       "        vertical-align: top;\n",
       "    }\n",
       "\n",
       "    .dataframe thead th {\n",
       "        text-align: right;\n",
       "    }\n",
       "</style>\n",
       "<table border=\"1\" class=\"dataframe\">\n",
       "  <thead>\n",
       "    <tr style=\"text-align: right;\">\n",
       "      <th></th>\n",
       "      <th>no_of_trainings</th>\n",
       "      <th>age</th>\n",
       "      <th>previous_year_rating</th>\n",
       "      <th>length_of_service</th>\n",
       "      <th>KPIs_met &gt;80%</th>\n",
       "      <th>awards_won?</th>\n",
       "      <th>avg_training_score</th>\n",
       "      <th>is_promoted</th>\n",
       "    </tr>\n",
       "  </thead>\n",
       "  <tbody>\n",
       "    <tr>\n",
       "      <th>count</th>\n",
       "      <td>54808.000000</td>\n",
       "      <td>54808.000000</td>\n",
       "      <td>50684.000000</td>\n",
       "      <td>54808.000000</td>\n",
       "      <td>54808.000000</td>\n",
       "      <td>54808.000000</td>\n",
       "      <td>54808.000000</td>\n",
       "      <td>54808.000000</td>\n",
       "    </tr>\n",
       "    <tr>\n",
       "      <th>mean</th>\n",
       "      <td>1.253011</td>\n",
       "      <td>34.803915</td>\n",
       "      <td>3.329256</td>\n",
       "      <td>5.865512</td>\n",
       "      <td>0.351974</td>\n",
       "      <td>0.023172</td>\n",
       "      <td>63.386750</td>\n",
       "      <td>0.085170</td>\n",
       "    </tr>\n",
       "    <tr>\n",
       "      <th>std</th>\n",
       "      <td>0.609264</td>\n",
       "      <td>7.660169</td>\n",
       "      <td>1.259993</td>\n",
       "      <td>4.265094</td>\n",
       "      <td>0.477590</td>\n",
       "      <td>0.150450</td>\n",
       "      <td>13.371559</td>\n",
       "      <td>0.279137</td>\n",
       "    </tr>\n",
       "    <tr>\n",
       "      <th>min</th>\n",
       "      <td>1.000000</td>\n",
       "      <td>20.000000</td>\n",
       "      <td>1.000000</td>\n",
       "      <td>1.000000</td>\n",
       "      <td>0.000000</td>\n",
       "      <td>0.000000</td>\n",
       "      <td>39.000000</td>\n",
       "      <td>0.000000</td>\n",
       "    </tr>\n",
       "    <tr>\n",
       "      <th>25%</th>\n",
       "      <td>1.000000</td>\n",
       "      <td>29.000000</td>\n",
       "      <td>3.000000</td>\n",
       "      <td>3.000000</td>\n",
       "      <td>0.000000</td>\n",
       "      <td>0.000000</td>\n",
       "      <td>51.000000</td>\n",
       "      <td>0.000000</td>\n",
       "    </tr>\n",
       "    <tr>\n",
       "      <th>50%</th>\n",
       "      <td>1.000000</td>\n",
       "      <td>33.000000</td>\n",
       "      <td>3.000000</td>\n",
       "      <td>5.000000</td>\n",
       "      <td>0.000000</td>\n",
       "      <td>0.000000</td>\n",
       "      <td>60.000000</td>\n",
       "      <td>0.000000</td>\n",
       "    </tr>\n",
       "    <tr>\n",
       "      <th>75%</th>\n",
       "      <td>1.000000</td>\n",
       "      <td>39.000000</td>\n",
       "      <td>4.000000</td>\n",
       "      <td>7.000000</td>\n",
       "      <td>1.000000</td>\n",
       "      <td>0.000000</td>\n",
       "      <td>76.000000</td>\n",
       "      <td>0.000000</td>\n",
       "    </tr>\n",
       "    <tr>\n",
       "      <th>max</th>\n",
       "      <td>10.000000</td>\n",
       "      <td>60.000000</td>\n",
       "      <td>5.000000</td>\n",
       "      <td>37.000000</td>\n",
       "      <td>1.000000</td>\n",
       "      <td>1.000000</td>\n",
       "      <td>99.000000</td>\n",
       "      <td>1.000000</td>\n",
       "    </tr>\n",
       "  </tbody>\n",
       "</table>\n",
       "</div>"
      ],
      "text/plain": [
       "       no_of_trainings           age  previous_year_rating  length_of_service  \\\n",
       "count     54808.000000  54808.000000          50684.000000       54808.000000   \n",
       "mean          1.253011     34.803915              3.329256           5.865512   \n",
       "std           0.609264      7.660169              1.259993           4.265094   \n",
       "min           1.000000     20.000000              1.000000           1.000000   \n",
       "25%           1.000000     29.000000              3.000000           3.000000   \n",
       "50%           1.000000     33.000000              3.000000           5.000000   \n",
       "75%           1.000000     39.000000              4.000000           7.000000   \n",
       "max          10.000000     60.000000              5.000000          37.000000   \n",
       "\n",
       "       KPIs_met >80%   awards_won?  avg_training_score   is_promoted  \n",
       "count   54808.000000  54808.000000        54808.000000  54808.000000  \n",
       "mean        0.351974      0.023172           63.386750      0.085170  \n",
       "std         0.477590      0.150450           13.371559      0.279137  \n",
       "min         0.000000      0.000000           39.000000      0.000000  \n",
       "25%         0.000000      0.000000           51.000000      0.000000  \n",
       "50%         0.000000      0.000000           60.000000      0.000000  \n",
       "75%         1.000000      0.000000           76.000000      0.000000  \n",
       "max         1.000000      1.000000           99.000000      1.000000  "
      ]
     },
     "execution_count": 10,
     "metadata": {},
     "output_type": "execute_result"
    }
   ],
   "source": [
    "df.drop(\"employee_id\",inplace=True,axis=1)\n",
    "df.describe()"
   ]
  },
  {
   "cell_type": "code",
   "execution_count": 11,
   "id": "b969ec66",
   "metadata": {},
   "outputs": [
    {
     "data": {
      "text/plain": [
       "<AxesSubplot:xlabel='avg_training_score'>"
      ]
     },
     "execution_count": 11,
     "metadata": {},
     "output_type": "execute_result"
    },
    {
     "data": {
      "image/png": "[encoded data removed]",
      "text/plain": [
       "<Figure size 432x288 with 1 Axes>"
      ]
     },
     "metadata": {
      "needs_background": "light"
     },
     "output_type": "display_data"
    }
   ],
   "source": [
    "sns.boxplot(x=df['avg_training_score'])"
   ]
  },
  {
   "cell_type": "code",
   "execution_count": 12,
   "id": "f3c9a9a0",
   "metadata": {},
   "outputs": [
    {
     "data": {
      "text/plain": [
       "<AxesSubplot:xlabel='no_of_trainings'>"
      ]
     },
     "execution_count": 12,
     "metadata": {},
     "output_type": "execute_result"
    },
    {
     "data": {
      "image/png": "[encoded data removed]",
      "text/plain": [
       "<Figure size 432x288 with 1 Axes>"
      ]
     },
     "metadata": {
      "needs_background": "light"
     },
     "output_type": "display_data"
    }
   ],
   "source": [
    "sns.boxplot(x=df['no_of_trainings'])"
   ]
  },
  {
   "cell_type": "code",
   "execution_count": 13,
   "id": "49f112fb",
   "metadata": {},
   "outputs": [
    {
     "data": {
      "text/plain": [
       "<AxesSubplot:xlabel='length_of_service'>"
      ]
     },
     "execution_count": 13,
     "metadata": {},
     "output_type": "execute_result"
    },
    {
     "data": {
      "image/png": "[encoded data removed]",
      "text/plain": [
       "<Figure size 432x288 with 1 Axes>"
      ]
     },
     "metadata": {
      "needs_background": "light"
     },
     "output_type": "display_data"
    }
   ],
   "source": [
    "sns.boxplot(x=df['length_of_service'])"
   ]
  },
  {
   "cell_type": "code",
   "execution_count": 14,
   "id": "c11dfc62",
   "metadata": {},
   "outputs": [
    {
     "data": {
      "text/plain": [
       "<AxesSubplot:xlabel='age'>"
      ]
     },
     "execution_count": 14,
     "metadata": {},
     "output_type": "execute_result"
    },
    {
     "data": {
      "image/png": "[encoded data removed]",
      "text/plain": [
       "<Figure size 432x288 with 1 Axes>"
      ]
     },
     "metadata": {
      "needs_background": "light"
     },
     "output_type": "display_data"
    }
   ],
   "source": [
    "sns.boxplot(x=df['age'])"
   ]
  },
  {
   "cell_type": "code",
   "execution_count": 15,
   "id": "ca8c956c",
   "metadata": {},
   "outputs": [
    {
     "data": {
      "text/plain": [
       "array([\"Master's & above\", \"Bachelor's\", nan, 'Below Secondary'],\n",
       "      dtype=object)"
      ]
     },
     "execution_count": 15,
     "metadata": {},
     "output_type": "execute_result"
    }
   ],
   "source": [
    "df.education.unique()"
   ]
  },
  {
   "cell_type": "code",
   "execution_count": 16,
   "id": "acf4ee72",
   "metadata": {},
   "outputs": [
    {
     "name": "stdout",
     "output_type": "stream",
     "text": [
      "gender          f     m\n",
      "is_promoted            \n",
      "0            0.30  0.70\n",
      "1            0.31  0.69\n"
     ]
    }
   ],
   "source": [
    "data_crosstab=pd.crosstab(df['is_promoted'],df['gender'],margins=False).apply(lambda r: r/r.sum(), axis=1).round(2)\n",
    "print(data_crosstab)"
   ]
  },
  {
   "cell_type": "code",
   "execution_count": 17,
   "id": "5d395dc5",
   "metadata": {},
   "outputs": [
    {
     "name": "stdout",
     "output_type": "stream",
     "text": [
      "gender          f     m\n",
      "is_promoted            \n",
      "0            0.91  0.92\n",
      "1            0.09  0.08\n"
     ]
    }
   ],
   "source": [
    "data_crosstab=pd.crosstab(df['is_promoted'],df['gender'],margins=False).apply(lambda r: r/r.sum(), axis=0).round(2)\n",
    "print(data_crosstab)"
   ]
  },
  {
   "cell_type": "code",
   "execution_count": 18,
   "id": "f1739c2f",
   "metadata": {},
   "outputs": [
    {
     "name": "stdout",
     "output_type": "stream",
     "text": [
      "education    Bachelor's  Below Secondary  Master's & above\n",
      "is_promoted                                               \n",
      "0                  0.70             0.02              0.28\n",
      "1                  0.66             0.01              0.32\n"
     ]
    }
   ],
   "source": [
    "data_crosstab=pd.crosstab(df['is_promoted'],df['education'],margins=False).apply(lambda r: r/r.sum(), axis=1).round(2)\n",
    "print(data_crosstab)"
   ]
  },
  {
   "cell_type": "code",
   "execution_count": 19,
   "id": "a707eafc",
   "metadata": {},
   "outputs": [
    {
     "name": "stdout",
     "output_type": "stream",
     "text": [
      "education    Bachelor's  Below Secondary  Master's & above\n",
      "is_promoted                                               \n",
      "0                  0.92             0.92               0.9\n",
      "1                  0.08             0.08               0.1\n"
     ]
    }
   ],
   "source": [
    "data_crosstab=pd.crosstab(df['is_promoted'],df['education'],margins=False).apply(lambda r: r/r.sum(), axis=0).round(2)\n",
    "print(data_crosstab)"
   ]
  },
  {
   "cell_type": "code",
   "execution_count": 20,
   "id": "b69e7db3",
   "metadata": {},
   "outputs": [
    {
     "name": "stdout",
     "output_type": "stream",
     "text": [
      "department   Analytics  Finance    HR  Legal  Operations  Procurement   R&D  \\\n",
      "is_promoted                                                                   \n",
      "0                 0.10     0.05  0.05   0.02        0.21         0.13  0.02   \n",
      "1                 0.11     0.04  0.03   0.01        0.22         0.15  0.01   \n",
      "\n",
      "department   Sales & Marketing  Technology  \n",
      "is_promoted                                 \n",
      "0                         0.31        0.13  \n",
      "1                         0.26        0.16  \n"
     ]
    }
   ],
   "source": [
    "data_crosstab=pd.crosstab(df['is_promoted'],df['department'],margins=False).apply(lambda r: r/r.sum(), axis=1).round(2)\n",
    "print(data_crosstab)"
   ]
  },
  {
   "cell_type": "code",
   "execution_count": 21,
   "id": "7341e351",
   "metadata": {},
   "outputs": [
    {
     "name": "stdout",
     "output_type": "stream",
     "text": [
      "department   Analytics  Finance    HR  Legal  Operations  Procurement   R&D  \\\n",
      "is_promoted                                                                   \n",
      "0                  0.9     0.92  0.94   0.95        0.91          0.9  0.93   \n",
      "1                  0.1     0.08  0.06   0.05        0.09          0.1  0.07   \n",
      "\n",
      "department   Sales & Marketing  Technology  \n",
      "is_promoted                                 \n",
      "0                         0.93        0.89  \n",
      "1                         0.07        0.11  \n"
     ]
    }
   ],
   "source": [
    "data_crosstab=pd.crosstab(df['is_promoted'],df['department'],margins=False).apply(lambda r: r/r.sum(), axis=0).round(2)\n",
    "print(data_crosstab)"
   ]
  },
  {
   "cell_type": "code",
   "execution_count": 22,
   "id": "ff85d422",
   "metadata": {
    "scrolled": true
   },
   "outputs": [
    {
     "name": "stdout",
     "output_type": "stream",
     "text": [
      "department   Analytics  Finance    HR  Legal  Operations  Procurement  R&D  \\\n",
      "is_promoted                                                                  \n",
      "0                 4840     2330  2282    986       10325         6450  930   \n",
      "1                  512      206   136     53        1023          688   69   \n",
      "All               5352     2536  2418   1039       11348         7138  999   \n",
      "\n",
      "department   Sales & Marketing  Technology    All  \n",
      "is_promoted                                        \n",
      "0                        15627        6370  50140  \n",
      "1                         1213         768   4668  \n",
      "All                      16840        7138  54808  \n"
     ]
    }
   ],
   "source": [
    "data_crosstab=pd.crosstab(df['is_promoted'],df['department'],margins=True)\n",
    "print(data_crosstab)"
   ]
  },
  {
   "cell_type": "code",
   "execution_count": 23,
   "id": "3bcad6e6",
   "metadata": {},
   "outputs": [
    {
     "name": "stdout",
     "output_type": "stream",
     "text": [
      "department  Analytics       Finance          HR       Legal       Operations  \\\n",
      "gender              f     m       f     m     f     m     f     m          f   \n",
      "is_promoted                                                                    \n",
      "0                0.88  0.91    0.92  0.92  0.94  0.94  0.96  0.95       0.91   \n",
      "1                0.12  0.09    0.08  0.08  0.06  0.06  0.04  0.05       0.09   \n",
      "\n",
      "department        Procurement         R&D       Sales & Marketing        \\\n",
      "gender          m           f     m     f     m                 f     m   \n",
      "is_promoted                                                               \n",
      "0            0.91        0.88  0.92  0.89  0.93              0.94  0.92   \n",
      "1            0.09        0.12  0.08  0.11  0.07              0.06  0.08   \n",
      "\n",
      "department  Technology        \n",
      "gender               f     m  \n",
      "is_promoted                   \n",
      "0                  0.9  0.89  \n",
      "1                  0.1  0.11  \n"
     ]
    }
   ],
   "source": [
    "data_crosstab=pd.crosstab(df['is_promoted'],[df['department'],df['gender']],margins=False).apply(lambda r: r/r.sum(), axis=0).round(2)\n",
    "print(data_crosstab)"
   ]
  },
  {
   "cell_type": "code",
   "execution_count": 24,
   "id": "7ba1f881",
   "metadata": {},
   "outputs": [
    {
     "name": "stdout",
     "output_type": "stream",
     "text": [
      "department  Analytics       Finance          HR       Legal       Operations  \\\n",
      "gender              f     m       f     m     f     m     f     m          f   \n",
      "is_promoted                                                                    \n",
      "0                0.01  0.09    0.01  0.03  0.02  0.03   0.0  0.02       0.08   \n",
      "1                0.01  0.10    0.01  0.03  0.01  0.02   0.0  0.01       0.09   \n",
      "\n",
      "department        Procurement        R&D       Sales & Marketing        \\\n",
      "gender          m           f     m    f     m                 f     m   \n",
      "is_promoted                                                              \n",
      "0            0.12        0.06  0.07  0.0  0.02              0.06  0.25   \n",
      "1            0.12        0.08  0.06  0.0  0.01              0.04  0.22   \n",
      "\n",
      "department  Technology        \n",
      "gender               f     m  \n",
      "is_promoted                   \n",
      "0                 0.05  0.08  \n",
      "1                 0.06  0.11  \n"
     ]
    }
   ],
   "source": [
    "data_crosstab=pd.crosstab(df['is_promoted'],[df['department'],df['gender']],margins=False).apply(lambda r: r/r.sum(), axis=1).round(2)\n",
    "print(data_crosstab)"
   ]
  },
  {
   "cell_type": "code",
   "execution_count": 25,
   "id": "98e59b21",
   "metadata": {},
   "outputs": [
    {
     "name": "stdout",
     "output_type": "stream",
     "text": [
      "recruitment_channel  other  referred  sourcing\n",
      "is_promoted                                   \n",
      "0                     0.92      0.88      0.91\n",
      "1                     0.08      0.12      0.09\n"
     ]
    }
   ],
   "source": [
    "data_crosstab=pd.crosstab(df['is_promoted'],df['recruitment_channel'],margins=False).apply(lambda r: r/r.sum(), axis=0).round(2)\n",
    "print(data_crosstab)"
   ]
  },
  {
   "cell_type": "code",
   "execution_count": 26,
   "id": "9153a6f1",
   "metadata": {},
   "outputs": [
    {
     "name": "stdout",
     "output_type": "stream",
     "text": [
      "recruitment_channel  other  referred  sourcing\n",
      "is_promoted                                   \n",
      "0                     0.56      0.02      0.42\n",
      "1                     0.55      0.03      0.42\n"
     ]
    }
   ],
   "source": [
    "data_crosstab=pd.crosstab(df['is_promoted'],df['recruitment_channel'],margins=False).apply(lambda r: r/r.sum(), axis=1).round(2)\n",
    "print(data_crosstab)"
   ]
  },
  {
   "cell_type": "code",
   "execution_count": 27,
   "id": "9cc3aa07",
   "metadata": {},
   "outputs": [],
   "source": [
    "#fill missing value\n",
    "df[\"previous_year_rating\"]= df[\"previous_year_rating\"].fillna(0)\n",
    "#change type to int\n",
    "df[\"previous_year_rating\"]= df[\"previous_year_rating\"].astype(\"int\")\n",
    "#Find out mode value for education\n",
    "df[\"education\"].mode()\n",
    "#fill missing value with mode \n",
    "df[\"education\"]= df[\"education\"].fillna(\"Bachelor's\")"
   ]
  },
  {
   "cell_type": "code",
   "execution_count": 28,
   "id": "f89f73fb",
   "metadata": {},
   "outputs": [
    {
     "data": {
      "text/plain": [
       "0    50140\n",
       "1     4668\n",
       "Name: is_promoted, dtype: int64"
      ]
     },
     "execution_count": 28,
     "metadata": {},
     "output_type": "execute_result"
    }
   ],
   "source": [
    "df[\"is_promoted\"].value_counts()"
   ]
  },
  {
   "cell_type": "code",
   "execution_count": 29,
   "id": "cb00543f",
   "metadata": {},
   "outputs": [
    {
     "data": {
      "image/png": "[encoded data removed]",
      "text/plain": [
       "<Figure size 720x360 with 3 Axes>"
      ]
     },
     "metadata": {
      "needs_background": "light"
     },
     "output_type": "display_data"
    }
   ],
   "source": [
    "# Visualize relationship between promoted and other features\n",
    "fig= plt.figure(figsize=(10,5) )\n",
    "fig.add_subplot(1,3,1)\n",
    "figure_1=sns.boxplot(x=df[\"is_promoted\"],y=df[\"length_of_service\"])\n",
    "fig.add_subplot(1,3,2)\n",
    "figure_2=sns.boxplot(x=df[\"is_promoted\"],y=df[\"avg_training_score\"])\n",
    "fig.add_subplot(1,3,3)\n",
    "figure_3=sns.boxplot(x=df[\"is_promoted\"],y=df[\"previous_year_rating\"])\n",
    "plt.tight_layout()\n",
    "plt.show()"
   ]
  },
  {
   "cell_type": "code",
   "execution_count": 30,
   "id": "277e9a20",
   "metadata": {},
   "outputs": [
    {
     "data": {
      "image/png": "[encoded data removed]",
      "text/plain": [
       "<Figure size 1440x720 with 2 Axes>"
      ]
     },
     "metadata": {
      "needs_background": "light"
     },
     "output_type": "display_data"
    }
   ],
   "source": [
    "#Correlation heatmaps\n",
    "plt.figure(figsize=(20, 10))\n",
    "#sns.heatmap(df1.corr(method='pearson').abs(), annot=True)\n",
    "\n",
    "# Create a mask\n",
    "corr=df.corr(method='pearson')\n",
    "mask = np.triu(np.ones_like(corr, dtype=bool))\n",
    "\n",
    "# Create a custom diverging palette\n",
    "cmap = sns.diverging_palette(100, 7, s=75, l=40,\n",
    "                            n=5, center=\"light\", as_cmap=True)\n",
    "\n",
    "sns.heatmap(corr, mask=mask, center=0, annot=True,\n",
    "            fmt='.2f', square=True, cmap=cmap)\n",
    "\n",
    "plt.show();"
   ]
  },
  {
   "cell_type": "code",
   "execution_count": 31,
   "id": "b7ebd4db",
   "metadata": {},
   "outputs": [],
   "source": [
    "# one hot encoding\n",
    "df1=df.copy()\n",
    "df1[\"gender\"]=df1[\"gender\"].apply(lambda x: 1 if x==\"m\" else 0)\n",
    "#list of columns\n",
    "cols = df1.select_dtypes([\"object\"]).columns\n",
    "#Create dummy variables\n",
    "ds=pd.get_dummies(df1[cols],drop_first=True)\n",
    "ds\n",
    "#concat newly created columns with original dataframe\n",
    "df2=pd.concat([df1,ds],axis=1)\n",
    "#Drop original columns\n",
    "df2.drop(cols,axis=1,inplace=True)"
   ]
  },
  {
   "cell_type": "code",
   "execution_count": 32,
   "id": "c7c47a0a",
   "metadata": {},
   "outputs": [
    {
     "data": {
      "text/html": [
       "<div>\n",
       "<style scoped>\n",
       "    .dataframe tbody tr th:only-of-type {\n",
       "        vertical-align: middle;\n",
       "    }\n",
       "\n",
       "    .dataframe tbody tr th {\n",
       "        vertical-align: top;\n",
       "    }\n",
       "\n",
       "    .dataframe thead th {\n",
       "        text-align: right;\n",
       "    }\n",
       "</style>\n",
       "<table border=\"1\" class=\"dataframe\">\n",
       "  <thead>\n",
       "    <tr style=\"text-align: right;\">\n",
       "      <th></th>\n",
       "      <th>gender</th>\n",
       "      <th>no_of_trainings</th>\n",
       "      <th>age</th>\n",
       "      <th>previous_year_rating</th>\n",
       "      <th>length_of_service</th>\n",
       "      <th>KPIs_met &gt;80%</th>\n",
       "      <th>awards_won?</th>\n",
       "      <th>avg_training_score</th>\n",
       "      <th>is_promoted</th>\n",
       "      <th>department_Finance</th>\n",
       "      <th>...</th>\n",
       "      <th>region_region_4</th>\n",
       "      <th>region_region_5</th>\n",
       "      <th>region_region_6</th>\n",
       "      <th>region_region_7</th>\n",
       "      <th>region_region_8</th>\n",
       "      <th>region_region_9</th>\n",
       "      <th>education_Below Secondary</th>\n",
       "      <th>education_Master's &amp; above</th>\n",
       "      <th>recruitment_channel_referred</th>\n",
       "      <th>recruitment_channel_sourcing</th>\n",
       "    </tr>\n",
       "  </thead>\n",
       "  <tbody>\n",
       "    <tr>\n",
       "      <th>0</th>\n",
       "      <td>0</td>\n",
       "      <td>1</td>\n",
       "      <td>35</td>\n",
       "      <td>5</td>\n",
       "      <td>8</td>\n",
       "      <td>1</td>\n",
       "      <td>0</td>\n",
       "      <td>49</td>\n",
       "      <td>0</td>\n",
       "      <td>0</td>\n",
       "      <td>...</td>\n",
       "      <td>0</td>\n",
       "      <td>0</td>\n",
       "      <td>0</td>\n",
       "      <td>1</td>\n",
       "      <td>0</td>\n",
       "      <td>0</td>\n",
       "      <td>0</td>\n",
       "      <td>1</td>\n",
       "      <td>0</td>\n",
       "      <td>1</td>\n",
       "    </tr>\n",
       "    <tr>\n",
       "      <th>1</th>\n",
       "      <td>1</td>\n",
       "      <td>1</td>\n",
       "      <td>30</td>\n",
       "      <td>5</td>\n",
       "      <td>4</td>\n",
       "      <td>0</td>\n",
       "      <td>0</td>\n",
       "      <td>60</td>\n",
       "      <td>0</td>\n",
       "      <td>0</td>\n",
       "      <td>...</td>\n",
       "      <td>0</td>\n",
       "      <td>0</td>\n",
       "      <td>0</td>\n",
       "      <td>0</td>\n",
       "      <td>0</td>\n",
       "      <td>0</td>\n",
       "      <td>0</td>\n",
       "      <td>0</td>\n",
       "      <td>0</td>\n",
       "      <td>0</td>\n",
       "    </tr>\n",
       "    <tr>\n",
       "      <th>2</th>\n",
       "      <td>1</td>\n",
       "      <td>1</td>\n",
       "      <td>34</td>\n",
       "      <td>3</td>\n",
       "      <td>7</td>\n",
       "      <td>0</td>\n",
       "      <td>0</td>\n",
       "      <td>50</td>\n",
       "      <td>0</td>\n",
       "      <td>0</td>\n",
       "      <td>...</td>\n",
       "      <td>0</td>\n",
       "      <td>0</td>\n",
       "      <td>0</td>\n",
       "      <td>0</td>\n",
       "      <td>0</td>\n",
       "      <td>0</td>\n",
       "      <td>0</td>\n",
       "      <td>0</td>\n",
       "      <td>0</td>\n",
       "      <td>1</td>\n",
       "    </tr>\n",
       "    <tr>\n",
       "      <th>3</th>\n",
       "      <td>1</td>\n",
       "      <td>2</td>\n",
       "      <td>39</td>\n",
       "      <td>1</td>\n",
       "      <td>10</td>\n",
       "      <td>0</td>\n",
       "      <td>0</td>\n",
       "      <td>50</td>\n",
       "      <td>0</td>\n",
       "      <td>0</td>\n",
       "      <td>...</td>\n",
       "      <td>0</td>\n",
       "      <td>0</td>\n",
       "      <td>0</td>\n",
       "      <td>0</td>\n",
       "      <td>0</td>\n",
       "      <td>0</td>\n",
       "      <td>0</td>\n",
       "      <td>0</td>\n",
       "      <td>0</td>\n",
       "      <td>0</td>\n",
       "    </tr>\n",
       "    <tr>\n",
       "      <th>4</th>\n",
       "      <td>1</td>\n",
       "      <td>1</td>\n",
       "      <td>45</td>\n",
       "      <td>3</td>\n",
       "      <td>2</td>\n",
       "      <td>0</td>\n",
       "      <td>0</td>\n",
       "      <td>73</td>\n",
       "      <td>0</td>\n",
       "      <td>0</td>\n",
       "      <td>...</td>\n",
       "      <td>0</td>\n",
       "      <td>0</td>\n",
       "      <td>0</td>\n",
       "      <td>0</td>\n",
       "      <td>0</td>\n",
       "      <td>0</td>\n",
       "      <td>0</td>\n",
       "      <td>0</td>\n",
       "      <td>0</td>\n",
       "      <td>0</td>\n",
       "    </tr>\n",
       "  </tbody>\n",
       "</table>\n",
       "<p>5 rows × 54 columns</p>\n",
       "</div>"
      ],
      "text/plain": [
       "   gender  no_of_trainings  age  previous_year_rating  length_of_service  \\\n",
       "0       0                1   35                     5                  8   \n",
       "1       1                1   30                     5                  4   \n",
       "2       1                1   34                     3                  7   \n",
       "3       1                2   39                     1                 10   \n",
       "4       1                1   45                     3                  2   \n",
       "\n",
       "   KPIs_met >80%  awards_won?  avg_training_score  is_promoted  \\\n",
       "0              1            0                  49            0   \n",
       "1              0            0                  60            0   \n",
       "2              0            0                  50            0   \n",
       "3              0            0                  50            0   \n",
       "4              0            0                  73            0   \n",
       "\n",
       "   department_Finance  ...  region_region_4  region_region_5  region_region_6  \\\n",
       "0                   0  ...                0                0                0   \n",
       "1                   0  ...                0                0                0   \n",
       "2                   0  ...                0                0                0   \n",
       "3                   0  ...                0                0                0   \n",
       "4                   0  ...                0                0                0   \n",
       "\n",
       "   region_region_7  region_region_8  region_region_9  \\\n",
       "0                1                0                0   \n",
       "1                0                0                0   \n",
       "2                0                0                0   \n",
       "3                0                0                0   \n",
       "4                0                0                0   \n",
       "\n",
       "   education_Below Secondary  education_Master's & above  \\\n",
       "0                          0                           1   \n",
       "1                          0                           0   \n",
       "2                          0                           0   \n",
       "3                          0                           0   \n",
       "4                          0                           0   \n",
       "\n",
       "   recruitment_channel_referred  recruitment_channel_sourcing  \n",
       "0                             0                             1  \n",
       "1                             0                             0  \n",
       "2                             0                             1  \n",
       "3                             0                             0  \n",
       "4                             0                             0  \n",
       "\n",
       "[5 rows x 54 columns]"
      ]
     },
     "execution_count": 32,
     "metadata": {},
     "output_type": "execute_result"
    }
   ],
   "source": [
    "df2.head()"
   ]
  },
  {
   "cell_type": "code",
   "execution_count": 77,
   "id": "0f802f0f",
   "metadata": {
    "scrolled": true
   },
   "outputs": [
    {
     "data": {
      "text/plain": [
       "gender                          54808\n",
       "no_of_trainings                 54808\n",
       "age                             54808\n",
       "previous_year_rating            54808\n",
       "length_of_service               54808\n",
       "KPIs_met >80%                   54808\n",
       "awards_won?                     54808\n",
       "avg_training_score              54808\n",
       "department_Finance              54808\n",
       "department_HR                   54808\n",
       "department_Legal                54808\n",
       "department_Operations           54808\n",
       "department_Procurement          54808\n",
       "department_R&D                  54808\n",
       "department_Sales & Marketing    54808\n",
       "department_Technology           54808\n",
       "region_region_10                54808\n",
       "region_region_11                54808\n",
       "region_region_12                54808\n",
       "region_region_13                54808\n",
       "region_region_14                54808\n",
       "region_region_15                54808\n",
       "region_region_16                54808\n",
       "region_region_17                54808\n",
       "region_region_18                54808\n",
       "region_region_19                54808\n",
       "region_region_2                 54808\n",
       "region_region_20                54808\n",
       "region_region_21                54808\n",
       "region_region_22                54808\n",
       "region_region_23                54808\n",
       "region_region_24                54808\n",
       "region_region_25                54808\n",
       "region_region_26                54808\n",
       "region_region_27                54808\n",
       "region_region_28                54808\n",
       "region_region_29                54808\n",
       "region_region_3                 54808\n",
       "region_region_30                54808\n",
       "region_region_31                54808\n",
       "region_region_32                54808\n",
       "region_region_33                54808\n",
       "region_region_34                54808\n",
       "region_region_4                 54808\n",
       "region_region_5                 54808\n",
       "region_region_6                 54808\n",
       "region_region_7                 54808\n",
       "region_region_8                 54808\n",
       "region_region_9                 54808\n",
       "education_Below Secondary       54808\n",
       "education_Master's & above      54808\n",
       "recruitment_channel_referred    54808\n",
       "recruitment_channel_sourcing    54808\n",
       "dtype: int64"
      ]
     },
     "execution_count": 77,
     "metadata": {},
     "output_type": "execute_result"
    }
   ],
   "source": [
    "df2.count()"
   ]
  },
  {
   "cell_type": "code",
   "execution_count": 33,
   "id": "a2dd8cb8",
   "metadata": {
    "collapsed": true
   },
   "outputs": [
    {
     "name": "stdout",
     "output_type": "stream",
     "text": [
      "train size X :  (43846, 53)\n",
      "train size y :  (43846,)\n",
      "test size X :  (10962, 53)\n",
      "test size y :  (10962,)\n"
     ]
    }
   ],
   "source": [
    "from sklearn.model_selection import train_test_split\n",
    "#split data into dependent variables(X) and independent variable(y) that we would predict\n",
    "y = df2.pop(\"is_promoted\")\n",
    "X = df2\n",
    "#Let’s split X and y using Train test split\n",
    "X_train,X_test,y_train,y_test = train_test_split(X,y,random_state=42,train_size=0.8)\n",
    "#get shape of train and test data\n",
    "print(\"train size X : \",X_train.shape)\n",
    "print(\"train size y : \",y_train.shape)\n",
    "print(\"test size X : \",X_test.shape)\n",
    "print(\"test size y : \",y_test.shape)"
   ]
  },
  {
   "cell_type": "code",
   "execution_count": 34,
   "id": "ef273a4e",
   "metadata": {},
   "outputs": [],
   "source": [
    "#Feature scaling\n",
    "from sklearn.preprocessing import StandardScaler\n",
    "scale=StandardScaler()\n",
    "X_train = scale.fit_transform(X_train)\n",
    "X_test = scale.transform(X_test)"
   ]
  },
  {
   "cell_type": "code",
   "execution_count": 35,
   "id": "8f890f51",
   "metadata": {},
   "outputs": [
    {
     "data": {
      "text/plain": [
       "0    0.914245\n",
       "1    0.085755\n",
       "Name: is_promoted, dtype: float64"
      ]
     },
     "execution_count": 35,
     "metadata": {},
     "output_type": "execute_result"
    }
   ],
   "source": [
    "#check for distribution of labels\n",
    "y_train.value_counts(normalize=True)"
   ]
  },
  {
   "cell_type": "code",
   "execution_count": 79,
   "id": "fd417235",
   "metadata": {
    "collapsed": true
   },
   "outputs": [
    {
     "data": {
      "text/plain": [
       "['gender',\n",
       " 'no_of_trainings',\n",
       " 'age',\n",
       " 'previous_year_rating',\n",
       " 'length_of_service',\n",
       " 'KPIs_met >80%',\n",
       " 'awards_won?',\n",
       " 'avg_training_score',\n",
       " 'department_Finance',\n",
       " 'department_HR',\n",
       " 'department_Legal',\n",
       " 'department_Operations',\n",
       " 'department_Procurement',\n",
       " 'department_R&D',\n",
       " 'department_Sales & Marketing',\n",
       " 'department_Technology',\n",
       " 'region_region_10',\n",
       " 'region_region_11',\n",
       " 'region_region_12',\n",
       " 'region_region_13',\n",
       " 'region_region_14',\n",
       " 'region_region_15',\n",
       " 'region_region_16',\n",
       " 'region_region_17',\n",
       " 'region_region_18',\n",
       " 'region_region_19',\n",
       " 'region_region_2',\n",
       " 'region_region_20',\n",
       " 'region_region_21',\n",
       " 'region_region_22',\n",
       " 'region_region_23',\n",
       " 'region_region_24',\n",
       " 'region_region_25',\n",
       " 'region_region_26',\n",
       " 'region_region_27',\n",
       " 'region_region_28',\n",
       " 'region_region_29',\n",
       " 'region_region_3',\n",
       " 'region_region_30',\n",
       " 'region_region_31',\n",
       " 'region_region_32',\n",
       " 'region_region_33',\n",
       " 'region_region_34',\n",
       " 'region_region_4',\n",
       " 'region_region_5',\n",
       " 'region_region_6',\n",
       " 'region_region_7',\n",
       " 'region_region_8',\n",
       " 'region_region_9',\n",
       " 'education_Below Secondary',\n",
       " \"education_Master's & above\",\n",
       " 'recruitment_channel_referred',\n",
       " 'recruitment_channel_sourcing']"
      ]
     },
     "execution_count": 79,
     "metadata": {},
     "output_type": "execute_result"
    }
   ],
   "source": [
    "df3=df2.copy()\n",
    "#df3=df3.drop(['is_promoted'],axis=1)\n",
    "column_head=list(df3.columns)\n",
    "column_head"
   ]
  },
  {
   "cell_type": "markdown",
   "id": "96d1bd18",
   "metadata": {},
   "source": [
    "## Logistic regression without considering Class weight"
   ]
  },
  {
   "cell_type": "code",
   "execution_count": 80,
   "id": "63ad8233",
   "metadata": {
    "scrolled": true
   },
   "outputs": [
    {
     "name": "stdout",
     "output_type": "stream",
     "text": [
      "Optimization terminated successfully.\n",
      "         Current function value: 0.644074\n",
      "         Iterations 6\n",
      "                           Logit Regression Results                           \n",
      "==============================================================================\n",
      "Dep. Variable:            is_promoted   No. Observations:                43846\n",
      "Model:                          Logit   Df Residuals:                    43793\n",
      "Method:                           MLE   Df Model:                           52\n",
      "Date:                Wed, 09 Nov 2022   Pseudo R-squ.:                  -1.201\n",
      "Time:                        17:06:00   Log-Likelihood:                -28240.\n",
      "converged:                       True   LL-Null:                       -12830.\n",
      "Covariance Type:            nonrobust   LLR p-value:                     1.000\n",
      "================================================================================================\n",
      "                                   coef    std err          z      P>|z|      [0.025      0.975]\n",
      "------------------------------------------------------------------------------------------------\n",
      "gender                           0.0101      0.011      0.945      0.344      -0.011       0.031\n",
      "no_of_trainings                 -0.0195      0.010     -1.895      0.058      -0.040       0.001\n",
      "age                             -0.0567      0.015     -3.833      0.000      -0.086      -0.028\n",
      "previous_year_rating             0.0675      0.011      6.191      0.000       0.046       0.089\n",
      "length_of_service                0.0262      0.014      1.941      0.052      -0.000       0.053\n",
      "KPIs_met >80%                    0.2286      0.011     21.381      0.000       0.208       0.250\n",
      "awards_won?                      0.2041      0.014     14.988      0.000       0.177       0.231\n",
      "avg_training_score               2.2268      0.046     48.004      0.000       2.136       2.318\n",
      "department_Finance               0.8553      0.022     39.191      0.000       0.813       0.898\n",
      "department_HR                    1.1568      0.027     42.111      0.000       1.103       1.211\n",
      "department_Legal                 0.5438      0.016     33.905      0.000       0.512       0.575\n",
      "department_Operations            1.6552      0.039     42.943      0.000       1.580       1.731\n",
      "department_Procurement           0.8406      0.023     36.638      0.000       0.796       0.886\n",
      "department_R&D                  -0.0195      0.011     -1.803      0.071      -0.041       0.002\n",
      "department_Sales & Marketing     2.6738      0.059     45.668      0.000       2.559       2.789\n",
      "department_Technology            0.3010      0.016     19.008      0.000       0.270       0.332\n",
      "region_region_10                -0.0011      0.014     -0.078      0.938      -0.029       0.027\n",
      "region_region_11                -0.0139      0.018     -0.775      0.439      -0.049       0.021\n",
      "region_region_12                -0.0045      0.014     -0.330      0.742      -0.031       0.022\n",
      "region_region_13                 0.0043      0.023      0.189      0.850      -0.041       0.049\n",
      "region_region_14                -0.0069      0.015     -0.448      0.654      -0.037       0.023\n",
      "region_region_15                -0.0033      0.024     -0.139      0.889      -0.050       0.043\n",
      "region_region_16                -0.0038      0.019     -0.204      0.838      -0.040       0.033\n",
      "region_region_17                 0.0246      0.015      1.603      0.109      -0.005       0.055\n",
      "region_region_18                -0.0038      0.010     -0.371      0.711      -0.024       0.016\n",
      "region_region_19                -0.0093      0.016     -0.590      0.555      -0.040       0.022\n",
      "region_region_2                  0.0083      0.042      0.197      0.844      -0.074       0.091\n",
      "region_region_20                -0.0063      0.016     -0.406      0.685      -0.037       0.024\n",
      "region_region_21                -0.0086      0.013     -0.658      0.510      -0.034       0.017\n",
      "region_region_22                 0.0343      0.033      1.051      0.293      -0.030       0.098\n",
      "region_region_23                 0.0135      0.017      0.787      0.431      -0.020       0.047\n",
      "region_region_24                -0.0062      0.014     -0.456      0.648      -0.033       0.020\n",
      "region_region_25                 0.0159      0.015      1.036      0.300      -0.014       0.046\n",
      "region_region_26                -0.0095      0.022     -0.440      0.660      -0.052       0.033\n",
      "region_region_27                -0.0001      0.019     -0.008      0.994      -0.038       0.038\n",
      "region_region_28                 0.0190      0.018      1.059      0.290      -0.016       0.054\n",
      "region_region_29                -0.0161      0.016     -0.991      0.322      -0.048       0.016\n",
      "region_region_3                  0.0082      0.013      0.650      0.515      -0.016       0.033\n",
      "region_region_30                 0.0058      0.015      0.401      0.688      -0.023       0.034\n",
      "region_region_31                -0.0120      0.020     -0.589      0.556      -0.052       0.028\n",
      "region_region_32                -0.0125      0.016     -0.781      0.435      -0.044       0.019\n",
      "region_region_33                -0.0096      0.012     -0.794      0.427      -0.033       0.014\n",
      "region_region_34                -0.0127      0.012     -1.038      0.299      -0.037       0.011\n",
      "region_region_4                  0.0304      0.020      1.556      0.120      -0.008       0.069\n",
      "region_region_5                 -0.0072      0.015     -0.478      0.633      -0.037       0.022\n",
      "region_region_6                 -0.0091      0.015     -0.620      0.535      -0.038       0.020\n",
      "region_region_7                  0.0250      0.029      0.859      0.390      -0.032       0.082\n",
      "region_region_8                 -0.0035      0.014     -0.242      0.809      -0.032       0.025\n",
      "region_region_9                 -0.0188      0.013     -1.434      0.152      -0.045       0.007\n",
      "education_Below Secondary        0.0039      0.010      0.372      0.710      -0.017       0.024\n",
      "education_Master's & above       0.0226      0.011      2.034      0.042       0.001       0.044\n",
      "recruitment_channel_referred    -0.0054      0.010     -0.520      0.603      -0.026       0.015\n",
      "recruitment_channel_sourcing     0.0002      0.010      0.015      0.988      -0.020       0.020\n",
      "================================================================================================\n"
     ]
    }
   ],
   "source": [
    "#using statsmodel - but it does not consider class weights as of now but we can run glm with some specifications in order to consider class weights\n",
    "log_reg = sm.Logit(y_train, X_train).fit()\n",
    "print(log_reg.summary(xname=column_head))"
   ]
  },
  {
   "cell_type": "markdown",
   "id": "55102d49",
   "metadata": {},
   "source": [
    "*We use z-test in logistic regression to evaluate the significance of individual variables because for a binomial outcome the variance depends on the mean and not the residuals, so you don't have to estimate any extra parameters. "
   ]
  },
  {
   "cell_type": "code",
   "execution_count": 84,
   "id": "86a38ae9",
   "metadata": {},
   "outputs": [
    {
     "data": {
      "text/plain": [
       "array([0.31489872, 0.46515985, 0.5842378 , ..., 0.60539168, 0.4097042 ,\n",
       "       0.57840153])"
      ]
     },
     "execution_count": 84,
     "metadata": {},
     "output_type": "execute_result"
    }
   ],
   "source": [
    "y_pred = log_reg.predict(X_test)\n",
    "y_pred"
   ]
  },
  {
   "cell_type": "code",
   "execution_count": 92,
   "id": "5d354585",
   "metadata": {},
   "outputs": [
    {
     "data": {
      "text/plain": [
       "array([[  89, 9965],\n",
       "       [   0,  908]], dtype=int64)"
      ]
     },
     "execution_count": 92,
     "metadata": {},
     "output_type": "execute_result"
    }
   ],
   "source": [
    "from sklearn.metrics import confusion_matrix\n",
    "threshold = 0.2\n",
    "y_pred1 = (y_pred > threshold).astype('float')\n",
    "confusion_matrix(y_test, y_pred1)"
   ]
  },
  {
   "cell_type": "code",
   "execution_count": 90,
   "id": "18ac89de",
   "metadata": {},
   "outputs": [
    {
     "name": "stdout",
     "output_type": "stream",
     "text": [
      "              precision    recall  f1-score   support\n",
      "\n",
      "           0       1.00      0.01      0.02     10054\n",
      "           1       0.08      1.00      0.15       908\n",
      "\n",
      "    accuracy                           0.09     10962\n",
      "   macro avg       0.54      0.50      0.09     10962\n",
      "weighted avg       0.92      0.09      0.03     10962\n",
      "\n"
     ]
    }
   ],
   "source": [
    "from sklearn.metrics import classification_report\n",
    "print(classification_report(y_test,y_pred1))"
   ]
  },
  {
   "cell_type": "markdown",
   "id": "616c8ab4",
   "metadata": {},
   "source": [
    "## Logistic Regression considering Class weights"
   ]
  },
  {
   "cell_type": "code",
   "execution_count": 37,
   "id": "f2164124",
   "metadata": {},
   "outputs": [
    {
     "data": {
      "text/plain": [
       "LogisticRegression(class_weight={0: 0.1, 1: 0.9})"
      ]
     },
     "execution_count": 37,
     "metadata": {},
     "output_type": "execute_result"
    }
   ],
   "source": [
    "from sklearn.linear_model import LogisticRegression\n",
    "#make instance of model with default parameters except class weight as we will add class weights due to class imbalance problem\n",
    "lr_basemodel =LogisticRegression(class_weight={0:0.1,1:0.9})\n",
    "# train model to learn relationships between input and output variables\n",
    "lr_basemodel.fit(X_train,y_train)"
   ]
  },
  {
   "cell_type": "code",
   "execution_count": 38,
   "id": "728aec31",
   "metadata": {
    "collapsed": true
   },
   "outputs": [
    {
     "name": "stderr",
     "output_type": "stream",
     "text": [
      "E:\\Anaconda\\lib\\site-packages\\sklearn\\model_selection\\_validation.py:372: FitFailedWarning: \n",
      "15000 fits failed out of a total of 30000.\n",
      "The score on these train-test partitions for these parameters will be set to nan.\n",
      "If these failures are not expected, you can try to debug them by setting error_score='raise'.\n",
      "\n",
      "Below are more details about the failures:\n",
      "--------------------------------------------------------------------------------\n",
      "15000 fits failed with the following error:\n",
      "Traceback (most recent call last):\n",
      "  File \"E:\\Anaconda\\lib\\site-packages\\sklearn\\model_selection\\_validation.py\", line 680, in _fit_and_score\n",
      "    estimator.fit(X_train, y_train, **fit_params)\n",
      "  File \"E:\\Anaconda\\lib\\site-packages\\sklearn\\linear_model\\_logistic.py\", line 1461, in fit\n",
      "    solver = _check_solver(self.solver, self.penalty, self.dual)\n",
      "  File \"E:\\Anaconda\\lib\\site-packages\\sklearn\\linear_model\\_logistic.py\", line 447, in _check_solver\n",
      "    raise ValueError(\n",
      "ValueError: Solver lbfgs supports only 'l2' or 'none' penalties, got l1 penalty.\n",
      "\n",
      "  warnings.warn(some_fits_failed_message, FitFailedWarning)\n",
      "E:\\Anaconda\\lib\\site-packages\\sklearn\\model_selection\\_search.py:969: UserWarning: One or more of the test scores are non-finite: [       nan 0.15796328        nan ... 0.20367254        nan 0.20022729]\n",
      "  warnings.warn(\n",
      "E:\\Anaconda\\lib\\site-packages\\sklearn\\model_selection\\_search.py:969: UserWarning: One or more of the train scores are non-finite: [       nan 0.15796328        nan ... 0.20384402        nan 0.20008966]\n",
      "  warnings.warn(\n"
     ]
    },
    {
     "data": {
      "text/plain": [
       "GridSearchCV(cv=StratifiedKFold(n_splits=5, random_state=42, shuffle=True),\n",
       "             estimator=LogisticRegression(),\n",
       "             param_grid={'C': [0.1, 0.5, 1, 10, 15, 20],\n",
       "                         'class_weight': [{0: 0.0, 1: 1.0},\n",
       "                                          {0: 0.0019839679358717435,\n",
       "                                           1: 0.9980160320641283},\n",
       "                                          {0: 0.003967935871743487,\n",
       "                                           1: 0.9960320641282565},\n",
       "                                          {0: 0.0059519038076152305,\n",
       "                                           1: 0.9940480961923848},\n",
       "                                          {0: 0.007935871743486974,\n",
       "                                           1: 0.99206412825...\n",
       "                                           1: 0.9543687374749499},\n",
       "                                          {0: 0.047615230460921844,\n",
       "                                           1: 0.9523847695390781},\n",
       "                                          {0: 0.04959919839679359,\n",
       "                                           1: 0.9504008016032064},\n",
       "                                          {0: 0.05158316633266533,\n",
       "                                           1: 0.9484168336673346},\n",
       "                                          {0: 0.05356713426853708,\n",
       "                                           1: 0.9464328657314629},\n",
       "                                          {0: 0.055551102204408814,\n",
       "                                           1: 0.9444488977955912},\n",
       "                                          {0: 0.05753507014028056,\n",
       "                                           1: 0.9424649298597194}, ...],\n",
       "                         'penalty': ['l1', 'l2']},\n",
       "             return_train_score=True, scoring='f1')"
      ]
     },
     "execution_count": 38,
     "metadata": {},
     "output_type": "execute_result"
    }
   ],
   "source": [
    "from sklearn.metrics import f1_score\n",
    "from sklearn.model_selection import StratifiedKFold\n",
    "from sklearn.model_selection import GridSearchCV\n",
    "#Hyperparameter tuning\n",
    "# define model/create instance\n",
    "lr=LogisticRegression()\n",
    "#tuning weight for minority class then weight for majority class will be 1-weight of minority class\n",
    "#Setting the range for class weights\n",
    "weights = np.linspace(0.0,0.99,500)\n",
    "#specifying all hyperparameters with possible values\n",
    "param= {'C': [0.1, 0.5, 1,10,15,20], 'penalty': ['l1', 'l2'],\"class_weight\":[{0:x ,1:1.0 -x} for x in weights]}\n",
    "# create 5 folds\n",
    "folds = StratifiedKFold(n_splits = 5, shuffle = True, random_state = 42)\n",
    "#Gridsearch for hyperparam tuning\n",
    "model= GridSearchCV(estimator= lr,param_grid=param,scoring=\"f1\",cv=folds,return_train_score=True)\n",
    "#train model to learn relationships between x and y\n",
    "model.fit(X_train,y_train)"
   ]
  },
  {
   "cell_type": "code",
   "execution_count": 39,
   "id": "9985ef4e",
   "metadata": {},
   "outputs": [
    {
     "name": "stdout",
     "output_type": "stream",
     "text": [
      "Best F1 score:  0.4484143106034219\n",
      "Best hyperparameters:  {'C': 20, 'class_weight': {0: 0.27180360721442887, 1: 0.7281963927855711}, 'penalty': 'l2'}\n"
     ]
    }
   ],
   "source": [
    "# print best hyperparameters\n",
    "print(\"Best F1 score: \", model.best_score_)\n",
    "print(\"Best hyperparameters: \", model.best_params_)"
   ]
  },
  {
   "cell_type": "code",
   "execution_count": 40,
   "id": "19c048e0",
   "metadata": {},
   "outputs": [
    {
     "data": {
      "text/plain": [
       "LogisticRegression(C=20, class_weight={0: 0.27, 1: 0.73})"
      ]
     },
     "execution_count": 40,
     "metadata": {},
     "output_type": "execute_result"
    }
   ],
   "source": [
    "#Building Model again with best params\n",
    "lr2=LogisticRegression(class_weight={0:0.27,1:0.73},C=20,penalty=\"l2\")\n",
    "lr2.fit(X_train,y_train)"
   ]
  },
  {
   "cell_type": "code",
   "execution_count": 41,
   "id": "270b9409",
   "metadata": {},
   "outputs": [],
   "source": [
    "# predict probabilities on Test and take probability for class 1([:1])\n",
    "y_pred_prob_test = lr2.predict_proba(X_test)[:, 1]\n",
    "#predict labels on test dataset\n",
    "y_pred_test = lr2.predict(X_test)"
   ]
  },
  {
   "cell_type": "code",
   "execution_count": 54,
   "id": "75898dfc",
   "metadata": {},
   "outputs": [
    {
     "data": {
      "text/html": [
       "<div>\n",
       "<style scoped>\n",
       "    .dataframe tbody tr th:only-of-type {\n",
       "        vertical-align: middle;\n",
       "    }\n",
       "\n",
       "    .dataframe tbody tr th {\n",
       "        vertical-align: top;\n",
       "    }\n",
       "\n",
       "    .dataframe thead th {\n",
       "        text-align: right;\n",
       "    }\n",
       "</style>\n",
       "<table border=\"1\" class=\"dataframe\">\n",
       "  <thead>\n",
       "    <tr style=\"text-align: right;\">\n",
       "      <th>Predicted</th>\n",
       "      <th>0</th>\n",
       "      <th>1</th>\n",
       "    </tr>\n",
       "    <tr>\n",
       "      <th>Actual</th>\n",
       "      <th></th>\n",
       "      <th></th>\n",
       "    </tr>\n",
       "  </thead>\n",
       "  <tbody>\n",
       "    <tr>\n",
       "      <th>0</th>\n",
       "      <td>9577</td>\n",
       "      <td>477</td>\n",
       "    </tr>\n",
       "    <tr>\n",
       "      <th>1</th>\n",
       "      <td>518</td>\n",
       "      <td>390</td>\n",
       "    </tr>\n",
       "  </tbody>\n",
       "</table>\n",
       "</div>"
      ],
      "text/plain": [
       "Predicted     0    1\n",
       "Actual              \n",
       "0          9577  477\n",
       "1           518  390"
      ]
     },
     "execution_count": 54,
     "metadata": {},
     "output_type": "execute_result"
    }
   ],
   "source": [
    "from sklearn.metrics import confusion_matrix\n",
    "# create confusion matrix\n",
    "cm = pd.crosstab(y_test, y_pred_test,rownames=['Actual'],colnames=['Predicted'],margins=False)\n",
    "cm"
   ]
  },
  {
   "cell_type": "code",
   "execution_count": 74,
   "id": "4bb01371",
   "metadata": {},
   "outputs": [
    {
     "name": "stdout",
     "output_type": "stream",
     "text": [
      "ROC-AUC score  test dataset:   0.8801395372477607\n",
      "precision score  test dataset:   0.44982698961937717\n",
      "Recall score  test dataset:   0.42951541850220265\n",
      "f1 score  test dataset :   0.4394366197183099\n"
     ]
    }
   ],
   "source": [
    "from sklearn.metrics import roc_auc_score\n",
    "from sklearn.metrics import precision_score\n",
    "from sklearn.metrics import recall_score\n",
    "# ROC- AUC score\n",
    "print(\"ROC-AUC score  test dataset:  \", roc_auc_score(y_test,y_pred_prob_test))\n",
    "#Precision score\n",
    "print(\"precision score  test dataset:  \", precision_score(y_test,y_pred_test))\n",
    "#Recall Score\n",
    "print(\"Recall score  test dataset:  \", recall_score(y_test,y_pred_test))\n",
    "#f1 score\n",
    "print(\"f1 score  test dataset :  \", f1_score(y_test,y_pred_test))"
   ]
  },
  {
   "cell_type": "code",
   "execution_count": 49,
   "id": "3daf1fba",
   "metadata": {
    "scrolled": true
   },
   "outputs": [
    {
     "data": {
      "image/png": "[encoded data removed]",
      "text/plain": [
       "<Figure size 432x288 with 1 Axes>"
      ]
     },
     "metadata": {
      "needs_background": "light"
     },
     "output_type": "display_data"
    }
   ],
   "source": [
    "from sklearn.metrics import roc_curve\n",
    "logit_roc_auc = roc_auc_score(y_test, lr2.predict(X_test))\n",
    "fpr, tpr, thresholds = roc_curve(y_test, lr2.predict_proba(X_test)[:,1])\n",
    "plt.figure()\n",
    "plt.plot(fpr, tpr, label='Logistic Regression (area = %0.2f)' % logit_roc_auc)\n",
    "plt.plot([0, 1], [0, 1],'r--')\n",
    "plt.xlim([0.0, 1.0])\n",
    "plt.ylim([0.0, 1.05])\n",
    "plt.xlabel('False Positive Rate')\n",
    "plt.ylabel('True Positive Rate')\n",
    "plt.title('Receiver operating characteristic')\n",
    "plt.legend(loc=\"lower right\")\n",
    "plt.savefig('Log_ROC')\n",
    "plt.show()"
   ]
  },
  {
   "cell_type": "code",
   "execution_count": 71,
   "id": "74a92e18",
   "metadata": {
    "scrolled": true
   },
   "outputs": [
    {
     "data": {
      "text/plain": [
       "<AxesSubplot:title={'center':'Feature Importance'}>"
      ]
     },
     "execution_count": 71,
     "metadata": {},
     "output_type": "execute_result"
    },
    {
     "data": {
      "image/png": "[encoded data removed]",
      "text/plain": [
       "<Figure size 432x288 with 1 Axes>"
      ]
     },
     "metadata": {
      "needs_background": "light"
     },
     "output_type": "display_data"
    }
   ],
   "source": [
    "importance = lr2.coef_[0]\n",
    "#importance is a list so you can plot it. \n",
    "feat_importances = pd.Series(importance,index=X.columns)\n",
    "feat_importances.nlargest(20).sort_values().plot(kind='barh',title = 'Feature Importance')"
   ]
  },
  {
   "cell_type": "code",
   "execution_count": 73,
   "id": "e9b07224",
   "metadata": {},
   "outputs": [
    {
     "data": {
      "image/png": "[encoded data removed]",
      "text/plain": [
       "<Figure size 432x288 with 1 Axes>"
      ]
     },
     "metadata": {
      "needs_background": "light"
     },
     "output_type": "display_data"
    }
   ],
   "source": [
    "from sklearn.metrics import precision_recall_curve\n",
    "lr_precision, lr_recall, _ = precision_recall_curve(y_test, lr2.predict(X_test))\n",
    "# plot the precision-recall curves\n",
    "no_skill = len(y_test[y_test==1]) / len(y_test)\n",
    "plt.plot([0, 1], [no_skill, no_skill], linestyle='--', label='No Skill')\n",
    "plt.plot(lr_recall, lr_precision, marker='.', label='Logistic')\n",
    "# axis labels\n",
    "plt.xlabel('Recall')\n",
    "plt.ylabel('Precision')\n",
    "# show the legend\n",
    "plt.legend()\n",
    "# show the plot\n",
    "plt.show()"
   ]
  },
  {
   "cell_type": "code",
   "execution_count": 83,
   "id": "8800bc2e",
   "metadata": {
    "collapsed": true
   },
   "outputs": [
    {
     "name": "stdout",
     "output_type": "stream",
     "text": [
      "        Logit Marginal Effects       \n",
      "=====================================\n",
      "Dep. Variable:            is_promoted\n",
      "Method:                          dydx\n",
      "At:                           overall\n",
      "==============================================================================\n",
      "                dy/dx    std err          z      P>|z|      [0.025      0.975]\n",
      "------------------------------------------------------------------------------\n",
      "x1             0.0023      0.002      0.945      0.344      -0.002       0.007\n",
      "x2            -0.0044      0.002     -1.895      0.058      -0.009       0.000\n",
      "x3            -0.0129      0.003     -3.836      0.000      -0.019      -0.006\n",
      "x4             0.0153      0.002      6.201      0.000       0.010       0.020\n",
      "x5             0.0060      0.003      1.942      0.052   -5.66e-05       0.012\n",
      "x6             0.0520      0.002     21.828      0.000       0.047       0.057\n",
      "x7             0.0464      0.003     15.118      0.000       0.040       0.052\n",
      "x8             0.5064      0.009     53.452      0.000       0.488       0.525\n",
      "x9             0.1945      0.005     41.985      0.000       0.185       0.204\n",
      "x10            0.2630      0.006     45.641      0.000       0.252       0.274\n",
      "x11            0.1237      0.003     35.666      0.000       0.117       0.130\n",
      "x12            0.3764      0.008     46.704      0.000       0.361       0.392\n",
      "x13            0.1912      0.005     38.890      0.000       0.182       0.201\n",
      "x14           -0.0044      0.002     -1.804      0.071      -0.009       0.000\n",
      "x15            0.6080      0.012     50.278      0.000       0.584       0.632\n",
      "x16            0.0684      0.004     19.303      0.000       0.061       0.075\n",
      "x17           -0.0003      0.003     -0.078      0.938      -0.007       0.006\n",
      "x18           -0.0032      0.004     -0.775      0.439      -0.011       0.005\n",
      "x19           -0.0010      0.003     -0.330      0.742      -0.007       0.005\n",
      "x20            0.0010      0.005      0.189      0.850      -0.009       0.011\n",
      "x21           -0.0016      0.003     -0.448      0.654      -0.008       0.005\n",
      "x22           -0.0007      0.005     -0.139      0.889      -0.011       0.010\n",
      "x23           -0.0009      0.004     -0.204      0.838      -0.009       0.007\n",
      "x24            0.0056      0.003      1.603      0.109      -0.001       0.012\n",
      "x25           -0.0009      0.002     -0.371      0.711      -0.005       0.004\n",
      "x26           -0.0021      0.004     -0.590      0.555      -0.009       0.005\n",
      "x27            0.0019      0.010      0.197      0.844      -0.017       0.021\n",
      "x28           -0.0014      0.004     -0.406      0.685      -0.008       0.005\n",
      "x29           -0.0019      0.003     -0.658      0.510      -0.008       0.004\n",
      "x30            0.0078      0.007      1.051      0.293      -0.007       0.022\n",
      "x31            0.0031      0.004      0.787      0.431      -0.005       0.011\n",
      "x32           -0.0014      0.003     -0.456      0.648      -0.007       0.005\n",
      "x33            0.0036      0.003      1.036      0.300      -0.003       0.010\n",
      "x34           -0.0022      0.005     -0.440      0.660      -0.012       0.007\n",
      "x35        -3.355e-05      0.004     -0.008      0.994      -0.009       0.009\n",
      "x36            0.0043      0.004      1.059      0.290      -0.004       0.012\n",
      "x37           -0.0037      0.004     -0.991      0.322      -0.011       0.004\n",
      "x38            0.0019      0.003      0.650      0.515      -0.004       0.007\n",
      "x39            0.0013      0.003      0.401      0.688      -0.005       0.008\n",
      "x40           -0.0027      0.005     -0.589      0.556      -0.012       0.006\n",
      "x41           -0.0028      0.004     -0.781      0.435      -0.010       0.004\n",
      "x42           -0.0022      0.003     -0.794      0.427      -0.008       0.003\n",
      "x43           -0.0029      0.003     -1.038      0.299      -0.008       0.003\n",
      "x44            0.0069      0.004      1.556      0.120      -0.002       0.016\n",
      "x45           -0.0016      0.003     -0.478      0.633      -0.008       0.005\n",
      "x46           -0.0021      0.003     -0.620      0.535      -0.009       0.004\n",
      "x47            0.0057      0.007      0.859      0.390      -0.007       0.019\n",
      "x48           -0.0008      0.003     -0.242      0.809      -0.007       0.006\n",
      "x49           -0.0043      0.003     -1.434      0.151      -0.010       0.002\n",
      "x50            0.0009      0.002      0.372      0.710      -0.004       0.006\n",
      "x51            0.0051      0.003      2.035      0.042       0.000       0.010\n",
      "x52           -0.0012      0.002     -0.520      0.603      -0.006       0.003\n",
      "x53          3.48e-05      0.002      0.015      0.988      -0.004       0.005\n",
      "==============================================================================\n"
     ]
    }
   ],
   "source": [
    "#Marginal effects for statsmodel\n",
    "print(log_reg.get_margeff().summary())"
   ]
  },
  {
   "cell_type": "code",
   "execution_count": null,
   "id": "db7973dc",
   "metadata": {},
   "outputs": [],
   "source": []
  }
 ],
 "metadata": {
  "kernelspec": {
   "display_name": "Python 3 (ipykernel)",
   "language": "python",
   "name": "python3"
  },
  "language_info": {
   "codemirror_mode": {
    "name": "ipython",
    "version": 3
   },
   "file_extension": ".py",
   "mimetype": "text/x-python",
   "name": "python",
   "nbconvert_exporter": "python",
   "pygments_lexer": "ipython3",
   "version": "3.9.12"
  }
 },
 "nbformat": 4,
 "nbformat_minor": 5
}
